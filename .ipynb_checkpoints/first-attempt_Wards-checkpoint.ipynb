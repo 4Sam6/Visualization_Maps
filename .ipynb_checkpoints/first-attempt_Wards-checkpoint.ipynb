{
 "cells": [
  {
   "cell_type": "code",
   "execution_count": 5,
   "id": "5315ba55-4f5e-4f89-84cb-a5ba94eae23d",
   "metadata": {},
   "outputs": [
    {
     "data": {
      "image/png": "[encoded data removed]",
      "text/plain": [
       "<Figure size 1000x600 with 1 Axes>"
      ]
     },
     "metadata": {},
     "output_type": "display_data"
    }
   ],
   "source": [
    "import pandas as pd  \n",
    "import geopandas as gpd\n",
    "import fiona\n",
    "import shapely\n",
    "import pyogrio\n",
    "import matplotlib.pyplot as plt\n",
    "\n",
    "# Define the ward you want to keep\n",
    "tarime_fill = [\"Binagi\", \"Bomani\", \"Genyange\", \"Gorong'a\"]\n",
    "\n",
    "# Define the wards In Tarime\n",
    "tarime = [\"Binagi\", \"Bomani\", \"Genyange\", \"Gorong'a\", \"Gwitiryo\", \"Itiryo\", \"Kemambo\", \"Kibasuka\", \"Kiore\", \"Komaswa\", \"Kwihancha\", \"Manga\", \"Mbogi\", \"Muriba\", \"Mwema\", \"Nyakonga\", \"Nyamisangura\", \"Nyamwaga\", \"Nyangoto\", \"Nyamongo\", \"Nyansincha\", \"Nyanungu\", \"Nyarero\", \"Nyarokoba\", \"Nyabichune\", \"Mjini Kati\", \"Pemba\", \"Regicheri\", \"Sabasaba\", \"Sirari\", \"Susuni\", \"Turwa\"]\n",
    "\n",
    "# print(len(wards)) = 34\n",
    "\n",
    "# Load wards map dataset\n",
    "wards = gpd.read_file(\"Maps/TZAmap_wards.shp\")\n",
    "\n",
    "# Filter the GeoDataFrame to keep only the wards in tarime\n",
    "# This will iterate thought the dataset and only return the tarime\n",
    "filtered_wards = wards[wards[\"shapeName\"].isin(tarime)]\n",
    "\n",
    "# This will iterate thought the dataset and only return the tarime_fill wards\n",
    "filtered_wards_fill = wards[wards[\"shapeName\"].isin(tarime_fill)]\n",
    "\n",
    "# Create a figure and axis for a single plot\n",
    "fig, ax = plt.subplots(figsize=(10, 6))\n",
    "\n",
    "# Plot the filtered wards\n",
    "filtered_wards.plot(ax=ax, edgecolor=\"grey\", linewidth=0.8, color=\"white\")\n",
    "\n",
    "# Plot only selected wards with fill\n",
    "filtered_wards_fill.plot(ax=ax, edgecolor=\"#747474\", linewidth=0.3, color=\"lightblue\", alpha=0.4)\n",
    "\n",
    "# Remove the axis\n",
    "plt.axis(\"off\")\n",
    "\n",
    "# Label graph\n",
    "plt.title(\"Wards in Tarime\")\n",
    "\n",
    "# Label each ward by plotting the ward name at the centre of each ward\n",
    "for idx, row in filtered_wards.iterrows():  # Iterate through the rows of the GeoDataFrame\n",
    "    # Get the centroid of each district\n",
    "    centroid = row.geometry.centroid\n",
    "    # Add the ward name at the centroid's coordinates\n",
    "    ax.text(centroid.x, centroid.y, row[\"shapeName\"], fontsize=8, ha=\"center\", color=\"black\")  # Add the label\n",
    "\n",
    "\n",
    "# Show the plot\n",
    "plt.show()\n",
    "\n",
    "\n",
    "\n"
   ]
  },
  {
   "cell_type": "code",
   "execution_count": null,
   "id": "d08ae0e8-fef3-4ec0-b34a-a6bb46e9a47d",
   "metadata": {},
   "outputs": [],
   "source": []
  }
 ],
 "metadata": {
  "kernelspec": {
   "display_name": "Python 3 (ipykernel)",
   "language": "python",
   "name": "python3"
  },
  "language_info": {
   "codemirror_mode": {
    "name": "ipython",
    "version": 3
   },
   "file_extension": ".py",
   "mimetype": "text/x-python",
   "name": "python",
   "nbconvert_exporter": "python",
   "pygments_lexer": "ipython3",
   "version": "3.11.11"
  }
 },
 "nbformat": 4,
 "nbformat_minor": 5
}
